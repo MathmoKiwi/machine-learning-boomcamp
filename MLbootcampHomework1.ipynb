{
 "cells": [
  {
   "cell_type": "code",
   "execution_count": 4,
   "id": "005f384f-3a3c-4dee-96e3-4544a2e0ba3b",
   "metadata": {},
   "outputs": [
    {
     "data": {
      "text/plain": [
       "'2.2.3'"
      ]
     },
     "execution_count": 4,
     "metadata": {},
     "output_type": "execute_result"
    }
   ],
   "source": [
    "import pandas as pd\n",
    "pd.__version__"
   ]
  },
  {
   "cell_type": "code",
   "execution_count": 5,
   "id": "95cb18ae-2793-466c-b87f-3a5cad9a35df",
   "metadata": {},
   "outputs": [],
   "source": [
    "# URL of the dataset\n",
    "url = \"https://raw.githubusercontent.com/alexeygrigorev/datasets/master/laptops.csv\"\n",
    "\n",
    "# Load the dataset into a DataFrame\n",
    "laptops_df = pd.read_csv(url)"
   ]
  },
  {
   "cell_type": "code",
   "execution_count": 7,
   "id": "bcdf1c3e-cd09-4797-9d24-88494de1e44c",
   "metadata": {},
   "outputs": [
    {
     "name": "stdout",
     "output_type": "stream",
     "text": [
      "Index(['Laptop', 'Status', 'Brand', 'Model', 'CPU', 'RAM', 'Storage',\n",
      "       'Storage type', 'GPU', 'Screen', 'Touch', 'Final Price'],\n",
      "      dtype='object')\n"
     ]
    }
   ],
   "source": [
    "# Print the column names to identify the correct name for the 'brand' column\n",
    "print(laptops_df.columns)\n"
   ]
  },
  {
   "cell_type": "code",
   "execution_count": 8,
   "id": "6b3f0f1e-b141-4229-951c-8e1b06214df4",
   "metadata": {},
   "outputs": [
    {
     "name": "stdout",
     "output_type": "stream",
     "text": [
      "Number of records in the dataset: 2160\n",
      "Number of unique laptop brands: 27\n",
      "Number of columns with missing values: 3\n"
     ]
    }
   ],
   "source": [
    "# Check the number of records in the dataset\n",
    "num_records = len(laptops_df)\n",
    "print(\"Number of records in the dataset:\", num_records)\n",
    "\n",
    "# Identify the number of unique laptop brands presented\n",
    "num_brands = laptops_df['Brand'].nunique()\n",
    "print(\"Number of unique laptop brands:\", num_brands)\n",
    "\n",
    "# Determine the number of columns that have missing values\n",
    "num_columns_with_missing_values = laptops_df.isnull().sum().astype(bool).sum()\n",
    "print(\"Number of columns with missing values:\", num_columns_with_missing_values)\n"
   ]
  },
  {
   "cell_type": "code",
   "execution_count": 10,
   "id": "570aac33-3d04-4e1c-a951-05d44c0b0bb9",
   "metadata": {},
   "outputs": [
    {
     "name": "stdout",
     "output_type": "stream",
     "text": [
      "Maximum final price of Dell notebooks: 3936.0\n"
     ]
    }
   ],
   "source": [
    "# Filter the dataset for Dell notebooks\n",
    "dell_notebooks = laptops_df[laptops_df['Brand'] == 'Dell']\n",
    "\n",
    "# Find the maximum final price of Dell notebooks\n",
    "max_final_price_dell = dell_notebooks['Final Price'].max()\n",
    "print(\"Maximum final price of Dell notebooks:\", max_final_price_dell)\n"
   ]
  },
  {
   "cell_type": "code",
   "execution_count": 11,
   "id": "dc5da7b5-a46c-4aba-92d5-4266d60a3931",
   "metadata": {},
   "outputs": [
    {
     "name": "stdout",
     "output_type": "stream",
     "text": [
      "0    15.6\n",
      "1    15.6\n",
      "2    15.6\n",
      "3    15.6\n",
      "4    15.6\n",
      "Name: Screen, dtype: float64\n"
     ]
    }
   ],
   "source": [
    "print(laptops_df['Screen'].head())\n"
   ]
  },
  {
   "cell_type": "code",
   "execution_count": 13,
   "id": "da692cfc-5f90-49bc-ade1-0f8e70873ecb",
   "metadata": {},
   "outputs": [
    {
     "name": "stdout",
     "output_type": "stream",
     "text": [
      "Median value of Screen column: 15.6\n",
      "Most frequent value of Screen column: 15.6\n",
      "New median value of Screen column after filling missing values: 15.6\n",
      "Has the median value changed after filling missing values? False\n"
     ]
    }
   ],
   "source": [
    "\n",
    "# Calculate the median of the 'Screen' column\n",
    "median_screen = laptops_df['Screen'].median()\n",
    "print(\"Median value of Screen column:\", median_screen)\n",
    "\n",
    "# Calculate the most frequent value (mode) of the 'Screen' column\n",
    "mode_screen = laptops_df['Screen'].mode()[0]  # mode() returns a Series, pick the first value\n",
    "print(\"Most frequent value of Screen column:\", mode_screen)\n",
    "\n",
    "# Fill missing values in the 'Screen' column using the mode\n",
    "laptops_df['Screen'] = laptops_df['Screen'].fillna(mode_screen)\n",
    "\n",
    "# Calculate the median of the 'Screen' column again after filling missing values\n",
    "new_median_screen = laptops_df['Screen'].median()\n",
    "print(\"New median value of Screen column after filling missing values:\", new_median_screen)\n",
    "\n",
    "# Check if the median has changed\n",
    "has_changed = median_screen != new_median_screen\n",
    "print(\"Has the median value changed after filling missing values?\", has_changed)"
   ]
  },
  {
   "cell_type": "code",
   "execution_count": 14,
   "id": "c8b1d6d9-54c0-45ec-a53e-37fc3682e48d",
   "metadata": {},
   "outputs": [
    {
     "name": "stdout",
     "output_type": "stream",
     "text": [
      "Sum of all elements in w: 91.2998806299555\n"
     ]
    }
   ],
   "source": [
    "# Filter for Innjoo laptops and select specific columns\n",
    "innjoo_laptops = laptops_df[laptops_df['Brand'] == 'Innjoo'][['RAM', 'Storage', 'Screen']]\n",
    "import numpy as np\n",
    "\n",
    "# Get the underlying NumPy array\n",
    "X = innjoo_laptops.values\n",
    "# Compute matrix-matrix multiplication between X.T and X\n",
    "XTX = np.dot(X.T, X)\n",
    "\n",
    "# Compute the inverse of XTX\n",
    "XTX_inv = np.linalg.inv(XTX)\n",
    "# Create an array y\n",
    "y = np.array([1100, 1300, 800, 900, 1000, 1100])\n",
    "\n",
    "# Multiply the inverse of XTX with the transpose of X, then with y\n",
    "w = np.dot(np.dot(XTX_inv, X.T), y)\n",
    "# Calculate the sum of all elements in w\n",
    "sum_w = np.sum(w)\n",
    "print(\"Sum of all elements in w:\", sum_w)\n"
   ]
  }
 ],
 "metadata": {
  "kernelspec": {
   "display_name": "Python 3 (ipykernel)",
   "language": "python",
   "name": "python3"
  },
  "language_info": {
   "codemirror_mode": {
    "name": "ipython",
    "version": 3
   },
   "file_extension": ".py",
   "mimetype": "text/x-python",
   "name": "python",
   "nbconvert_exporter": "python",
   "pygments_lexer": "ipython3",
   "version": "3.10.11"
  }
 },
 "nbformat": 4,
 "nbformat_minor": 5
}
